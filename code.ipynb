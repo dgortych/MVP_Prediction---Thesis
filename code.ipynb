{
 "cells": [
  {
   "cell_type": "code",
   "execution_count": 1,
   "metadata": {},
   "outputs": [],
   "source": [
    "import pandas as pd\n",
    "import numpy as np\n",
    "pd.options.display.max_columns = 50\n",
    "pd.options.display.max_info_columns = 50\n",
    "pd.options.display.max_rows = 100\n",
    "\n",
    "data_source = pd.read_csv(r\"data_2022/seasons_stats.csv\",encoding='latin-1')\n",
    "cols = ['Year', 'Player', 'Pos', 'Age', 'G', 'GS', 'MP',\n",
    "       'FG', 'FGA', 'FG%', '3P', '3PA', '3P%', '2P', '2PA', '2P%', 'eFG%',\n",
    "       'FT', 'FTA', 'FT%', 'ORB', 'DRB', 'TRB', 'AST', 'STL', 'BLK', 'TOV',\n",
    "       'PF', 'PTS', 'PER', 'TS%', '3PAr', 'FTr', 'ORB%', 'DRB%', 'TRB%',\n",
    "       'AST%', 'STL%', 'BLK%', 'TOV%', 'USG%', 'OWS', 'DWS', 'WS', 'WS/48',\n",
    "       'OBPM', 'DBPM', 'BPM', 'VORP']       \n",
    "data_source = data_source[cols]\n",
    "data_source = data_source.query(\"Year >= 1982 and Year < 2022\").reset_index(drop=True)\n",
    "data_source['Player'] = data_source['Player']\n",
    "#data_source.info() #20935 rows"
   ]
  },
  {
   "cell_type": "code",
   "execution_count": 2,
   "metadata": {},
   "outputs": [],
   "source": [
    "data = data_source.copy()\n",
    "#Drop rows with all missing values \n",
    "data.dropna(axis=0,how='all',inplace=True)\n",
    "#Check for duplicated rows\n",
    "data.duplicated().any() #False\n",
    "data.duplicated(subset = ['Year', 'Player']).any() #True \n",
    "data = data[~data.duplicated(subset = ['Year', 'Player'], keep = 'first')]\n",
    "#data.isnull().mean()"
   ]
  },
  {
   "cell_type": "code",
   "execution_count": 3,
   "metadata": {},
   "outputs": [],
   "source": [
    "#Adding MVP column\n",
    "mvp_winners_data = pd.read_excel(r\"data/mvp_winners.xlsx\",header=None,names=['Year','Player'])\n",
    "mvp_winners_data['Year'] = (mvp_winners_data['Year'].str[:2] + mvp_winners_data['Year'].str[5:]).astype('double')\n",
    "mvp_winners_data['MVP'] = 1\n",
    "mvp_winners_data\n",
    "\n",
    "data['Player'] = data['Player'].str.replace('*','')\n",
    "data = pd.merge(data,mvp_winners_data,on=['Year','Player'],how='left')\n",
    "data.loc[(data['Year'] == 2021 ) & ( data[\"Player\"].str.find('Nikola Joki') != -1 ),'MVP'] = 1\n",
    "data['MVP'] = data['MVP'].fillna(0)"
   ]
  },
  {
   "cell_type": "code",
   "execution_count": null,
   "metadata": {},
   "outputs": [],
   "source": [
    "#Deleting 3 players with NAN that are not significant \n",
    "data = data[data['USG%'].notna()]\n",
    "#Deleting players that didnt make single shot\n",
    "data['FG%'].fillna(0,inplace=True)\n",
    "data['2P%'].fillna(0,inplace=True)\n",
    "data['3P%'].fillna(0,inplace=True)\n",
    "data['eFG%'].fillna(0,inplace=True)\n",
    "data['FT%'].fillna(0,inplace=True)\n",
    "data['TS%'].fillna(0,inplace=True)\n",
    "data['3PAr'].fillna(0,inplace=True)\n",
    "data['FTr'].fillna(0,inplace=True)\n",
    "data['TOV%'].fillna(0,inplace=True)\n",
    "data.isnull().mean()\n"
   ]
  },
  {
   "cell_type": "code",
   "execution_count": null,
   "metadata": {},
   "outputs": [],
   "source": [
    "data.to_csv(r\"data/cleared_data.csv\")\n",
    "data.info()"
   ]
  },
  {
   "cell_type": "code",
   "execution_count": null,
   "metadata": {},
   "outputs": [],
   "source": [
    "data = pd.read_csv(r\"data/cleared_data.csv\")\n",
    "data_eda = data.drop(['Player','Pos'],axis=1)\n",
    "xd = data_eda.corr() \n",
    "#xd['MVP']"
   ]
  },
  {
   "cell_type": "code",
   "execution_count": null,
   "metadata": {},
   "outputs": [],
   "source": [
    "from sklearn.model_selection import train_test_split\n",
    "from sklearn.linear_model import LinearRegression\n",
    "from sklearn.metrics import mean_squared_error\n",
    "import seaborn as sns\n",
    "\n",
    "features = data.columns.drop(['MVP','Player','Pos'])\n",
    "X_train, X_test, y_train, y_test = train_test_split(data, data[\"MVP\"], test_size=0.3, random_state=0)\n",
    "\n",
    "reg = LinearRegression().fit(X_train[features],y_train)\n",
    "PredTest = reg.predict(X_test[features])\n",
    "print( reg.score(X_test[features], y_test) )\n",
    "print(mean_squared_error(y_test,PredTest))\n",
    "\n",
    "#reg.coef_\n",
    "\n",
    "comb = pd.concat([X_test[['Year','Player','MVP']],pd.DataFrame(PredTest,index=X_test.index,columns=[\"prediction\"])],axis=1)\n",
    "comb.sort_values(\"prediction\",ascending=False).head(20)\n"
   ]
  },
  {
   "cell_type": "code",
   "execution_count": null,
   "metadata": {},
   "outputs": [],
   "source": [
    "from sklearn.linear_model import Ridge\n",
    "reg = Ridge().fit(X_train[features],y_train)\n",
    "PredTest = reg.predict(X_test[features])\n",
    "print( reg.score(X_test[features], y_test) )\n",
    "print(mean_squared_error(y_test,PredTest))\n",
    "\n",
    "#reg.coef_\n",
    "\n",
    "comb = pd.concat([X_test[['Year','Player','MVP']],pd.DataFrame(PredTest,index=X_test.index,columns=[\"prediction\"])],axis=1)\n",
    "comb.sort_values(\"prediction\",ascending=False).head(20)\n",
    "\n"
   ]
  },
  {
   "cell_type": "code",
   "execution_count": 25,
   "metadata": {},
   "outputs": [],
   "source": [
    "from sklearn.linear_model import LogisticRegression\n",
    "\n",
    "clf = LogisticRegression(max_iter = 10000).fit(X_train[features],y_train)\n",
    "\n"
   ]
  },
  {
   "cell_type": "code",
   "execution_count": 26,
   "metadata": {},
   "outputs": [
    {
     "data": {
      "image/png": "[encoded data removed]",
      "text/plain": [
       "<Figure size 144x144 with 2 Axes>"
      ]
     },
     "metadata": {
      "needs_background": "light"
     },
     "output_type": "display_data"
    }
   ],
   "source": [
    "predictions = clf.predict(X_test[features])\n",
    "score = clf.score(X_test[features], y_test) \n",
    "from sklearn import metrics\n",
    "cm = metrics.confusion_matrix(y_test, predictions)\n",
    "import matplotlib.pyplot as plt\n",
    "plt.figure(figsize=(2,2))\n",
    "sns.heatmap(cm, annot=True, fmt=\".3f\", linewidths=.5, square = True, cmap = 'Blues_r');\n",
    "plt.ylabel('Actual label');\n",
    "plt.xlabel('Predicted label');\n",
    "all_sample_title = 'Accuracy Score: {0}'.format(score)\n",
    "plt.title(all_sample_title, size = 15);\n",
    "plt.show()"
   ]
  },
  {
   "cell_type": "code",
   "execution_count": 27,
   "metadata": {},
   "outputs": [
    {
     "name": "stdout",
     "output_type": "stream",
     "text": [
      "0.997070884592853 0.0029291154071470417\n"
     ]
    },
    {
     "data": {
      "image/png": "[encoded data removed]",
      "text/plain": [
       "<Figure size 144x144 with 2 Axes>"
      ]
     },
     "metadata": {
      "needs_background": "light"
     },
     "output_type": "display_data"
    }
   ],
   "source": [
    "from sklearn.ensemble import RandomForestClassifier\n",
    "from sklearn.model_selection import cross_val_score\n",
    "from sklearn.tree import DecisionTreeRegressor\n",
    "\n",
    "regressor = DecisionTreeRegressor(random_state=0)\n",
    "\n",
    "forest = RandomForestClassifier(random_state=0)\n",
    "forest.fit(X_train[features], y_train)\n",
    "predictions = forest.predict(X_test[features])\n",
    "score = forest.score(pd.DataFrame(X_test[features]), y_test)\n",
    "mse = mean_squared_error(y_test,predictions)\n",
    "\n",
    "print(score,mse)\n",
    "\n",
    "cm = metrics.confusion_matrix(y_test, predictions)\n",
    "plt.figure(figsize=(2,2))\n",
    "sns.heatmap(cm, annot=True, fmt=\".3f\", linewidths=.5, square = True, cmap = 'Blues_r');\n",
    "plt.ylabel('Actual label');\n",
    "plt.xlabel('Predicted label');\n",
    "all_sample_title = 'Accuracy Score: {0}'.format(score)\n",
    "plt.title(all_sample_title, size = 15);\n",
    "plt.show()"
   ]
  },
  {
   "cell_type": "code",
   "execution_count": 13,
   "metadata": {},
   "outputs": [],
   "source": [
    "data_back = data.copy()\n",
    "data_back['id'] = data_back.index\n",
    "\n",
    "from sklearn.ensemble import RandomForestClassifier\n",
    "\n",
    "years = range(2000, 2021)\n",
    "mvp_years = dict()\n",
    "results_mvp = pd.DataFrame(columns = ['id', 'Year', 'MVP'])\n",
    "\n",
    "for y in years :\n",
    "    # train : all seasons from 2000 to year\n",
    "    # test : year\n",
    "    train = data_back[data_back.Year < y]\n",
    "    test = data_back[data_back.Year == y]\n",
    "    X_train = train.drop(['id', 'Player','Pos','Year', 'MVP'], axis=1)\n",
    "    y_train = train['MVP']\n",
    "    X_test = test.drop(['id', 'Player','Pos','Year', 'MVP'], axis=1)\n",
    "    \n",
    "    # Random Forest\n",
    "\n",
    "    random_forest = RandomForestClassifier(n_estimators=10)\n",
    "    random_forest.fit(X_train, y_train)\n",
    "    y_pred = random_forest.predict(X_test)\n",
    "    random_forest.score(X_train, y_train)\n",
    "    acc_random_forest = round(random_forest.score(X_train, y_train) * 100, 2)\n",
    "    \n",
    "    pred_proba = random_forest.predict_proba(X_test)\n",
    "    \n",
    "    y_pred_proba = []\n",
    "    for i in enumerate(pred_proba):\n",
    "        y_pred_proba.append(i[1][1])\n",
    "    y_pred_proba = np.asarray(y_pred_proba)\n",
    "    \n",
    "    mvp_years = pd.DataFrame({\n",
    "        \"id\": test[\"id\"],\n",
    "        \"Year\": y,\n",
    "        \"MVP\": y_pred_proba\n",
    "        })\n",
    "    \n",
    "    results_mvp = pd.concat([results_mvp, mvp_years])\n",
    "\n",
    "results_mvp['id'] = results_mvp['id'].astype('int')\n",
    "career_player = data_back[['id', 'Player']]\n",
    "results_mvp = results_mvp.merge(career_player, on='id')\n",
    "\n",
    "results_mvp = results_mvp.drop_duplicates()\n",
    "# results_mvp = results_mvp.sort_values(by='MVP', ascending=False)\n",
    "# results_mvp = results_mvp.iloc[0]"
   ]
  },
  {
   "cell_type": "code",
   "execution_count": 14,
   "metadata": {},
   "outputs": [
    {
     "data": {
      "text/html": [
       "<div>\n",
       "<style scoped>\n",
       "    .dataframe tbody tr th:only-of-type {\n",
       "        vertical-align: middle;\n",
       "    }\n",
       "\n",
       "    .dataframe tbody tr th {\n",
       "        vertical-align: top;\n",
       "    }\n",
       "\n",
       "    .dataframe thead th {\n",
       "        text-align: right;\n",
       "    }\n",
       "</style>\n",
       "<table border=\"1\" class=\"dataframe\">\n",
       "  <thead>\n",
       "    <tr style=\"text-align: right;\">\n",
       "      <th></th>\n",
       "      <th>Year</th>\n",
       "      <th>Player</th>\n",
       "    </tr>\n",
       "  </thead>\n",
       "  <tbody>\n",
       "    <tr>\n",
       "      <th>9504</th>\n",
       "      <td>2020</td>\n",
       "      <td>James Harden</td>\n",
       "    </tr>\n",
       "    <tr>\n",
       "      <th>8982</th>\n",
       "      <td>2019</td>\n",
       "      <td>James Harden</td>\n",
       "    </tr>\n",
       "    <tr>\n",
       "      <th>8743</th>\n",
       "      <td>2018</td>\n",
       "      <td>Russell Westbrook</td>\n",
       "    </tr>\n",
       "    <tr>\n",
       "      <th>7969</th>\n",
       "      <td>2017</td>\n",
       "      <td>LeBron James</td>\n",
       "    </tr>\n",
       "    <tr>\n",
       "      <th>7378</th>\n",
       "      <td>2016</td>\n",
       "      <td>Stephen Curry</td>\n",
       "    </tr>\n",
       "    <tr>\n",
       "      <th>6893</th>\n",
       "      <td>2015</td>\n",
       "      <td>Stephen Curry</td>\n",
       "    </tr>\n",
       "    <tr>\n",
       "      <th>6526</th>\n",
       "      <td>2014</td>\n",
       "      <td>LeBron James</td>\n",
       "    </tr>\n",
       "    <tr>\n",
       "      <th>6044</th>\n",
       "      <td>2013</td>\n",
       "      <td>LeBron James</td>\n",
       "    </tr>\n",
       "    <tr>\n",
       "      <th>5588</th>\n",
       "      <td>2012</td>\n",
       "      <td>LeBron James</td>\n",
       "    </tr>\n",
       "    <tr>\n",
       "      <th>5114</th>\n",
       "      <td>2011</td>\n",
       "      <td>Dwight Howard</td>\n",
       "    </tr>\n",
       "    <tr>\n",
       "      <th>4683</th>\n",
       "      <td>2010</td>\n",
       "      <td>LeBron James</td>\n",
       "    </tr>\n",
       "    <tr>\n",
       "      <th>4226</th>\n",
       "      <td>2009</td>\n",
       "      <td>LeBron James</td>\n",
       "    </tr>\n",
       "    <tr>\n",
       "      <th>3888</th>\n",
       "      <td>2008</td>\n",
       "      <td>Chris Paul</td>\n",
       "    </tr>\n",
       "    <tr>\n",
       "      <th>3405</th>\n",
       "      <td>2007</td>\n",
       "      <td>Steve Nash</td>\n",
       "    </tr>\n",
       "    <tr>\n",
       "      <th>2850</th>\n",
       "      <td>2006</td>\n",
       "      <td>Allen Iverson</td>\n",
       "    </tr>\n",
       "    <tr>\n",
       "      <th>2337</th>\n",
       "      <td>2005</td>\n",
       "      <td>Kevin Garnett</td>\n",
       "    </tr>\n",
       "    <tr>\n",
       "      <th>1890</th>\n",
       "      <td>2004</td>\n",
       "      <td>Kevin Garnett</td>\n",
       "    </tr>\n",
       "    <tr>\n",
       "      <th>1428</th>\n",
       "      <td>2003</td>\n",
       "      <td>Tim Duncan</td>\n",
       "    </tr>\n",
       "    <tr>\n",
       "      <th>1292</th>\n",
       "      <td>2002</td>\n",
       "      <td>Ben Wallace</td>\n",
       "    </tr>\n",
       "    <tr>\n",
       "      <th>784</th>\n",
       "      <td>2001</td>\n",
       "      <td>David Robinson</td>\n",
       "    </tr>\n",
       "    <tr>\n",
       "      <th>310</th>\n",
       "      <td>2000</td>\n",
       "      <td>Gary Payton</td>\n",
       "    </tr>\n",
       "  </tbody>\n",
       "</table>\n",
       "</div>"
      ],
      "text/plain": [
       "      Year             Player\n",
       "9504  2020       James Harden\n",
       "8982  2019       James Harden\n",
       "8743  2018  Russell Westbrook\n",
       "7969  2017       LeBron James\n",
       "7378  2016      Stephen Curry\n",
       "6893  2015      Stephen Curry\n",
       "6526  2014       LeBron James\n",
       "6044  2013       LeBron James\n",
       "5588  2012       LeBron James\n",
       "5114  2011      Dwight Howard\n",
       "4683  2010       LeBron James\n",
       "4226  2009       LeBron James\n",
       "3888  2008         Chris Paul\n",
       "3405  2007         Steve Nash\n",
       "2850  2006      Allen Iverson\n",
       "2337  2005      Kevin Garnett\n",
       "1890  2004      Kevin Garnett\n",
       "1428  2003         Tim Duncan\n",
       "1292  2002        Ben Wallace\n",
       "784   2001     David Robinson\n",
       "310   2000        Gary Payton"
      ]
     },
     "execution_count": 14,
     "metadata": {},
     "output_type": "execute_result"
    }
   ],
   "source": [
    "top_mvp = results_mvp.sort_values('MVP', ascending=False).groupby('Year').head(1)\n",
    "top_mvp = top_mvp.sort_values('Year', ascending=False)\n",
    "top_mvp = top_mvp[['Year', 'Player']]\n",
    "top_mvp"
   ]
  },
  {
   "cell_type": "code",
   "execution_count": null,
   "metadata": {},
   "outputs": [],
   "source": [
    "predictions = forest.predict(X_test[features])\n",
    "score = forest.score(pd.DataFrame(X_test[features]), y_test)\n",
    "mse = mean_squared_error(y_test,predictions)\n",
    "\n",
    "cm = metrics.confusion_matrix(y_test, predictions)\n",
    "plt.figure(figsize=(2,2))\n",
    "sns.heatmap(cm, annot=True, fmt=\".3f\", linewidths=.5, square = True, cmap = 'Blues_r');\n",
    "plt.ylabel('Actual label');\n",
    "plt.xlabel('Predicted label');\n",
    "all_sample_title = 'Accuracy Score: {0}'.format(score)\n",
    "plt.title(all_sample_title, size = 15);\n",
    "plt.show()"
   ]
  }
 ],
 "metadata": {
  "kernelspec": {
   "display_name": "Python 3.6.10 ('DataScience')",
   "language": "python",
   "name": "python3"
  },
  "language_info": {
   "codemirror_mode": {
    "name": "ipython",
    "version": 3
   },
   "file_extension": ".py",
   "mimetype": "text/x-python",
   "name": "python",
   "nbconvert_exporter": "python",
   "pygments_lexer": "ipython3",
   "version": "3.6.10"
  },
  "orig_nbformat": 4,
  "vscode": {
   "interpreter": {
    "hash": "e6c7c78a7bc2360eb82243ccda83c953f00883f2b94c540b61b1dc4fa94743b2"
   }
  }
 },
 "nbformat": 4,
 "nbformat_minor": 2
}
